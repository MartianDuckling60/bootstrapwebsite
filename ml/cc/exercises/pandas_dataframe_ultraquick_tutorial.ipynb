{
  "nbformat": 4,
  "nbformat_minor": 0,
  "metadata": {
    "colab": {
      "name": "Pandas DataFrame UltraQuick Tutorial.ipynb",
      "provenance": [],
      "private_outputs": true
    },
    "kernelspec": {
      "name": "python3",
      "display_name": "Python 3"
    }
  },
  "cells": [
    {
      "cell_type": "code",
      "source": [
        "from google.colab import drive\n",
        "drive.mount('/content/drive')\n"
      ],
      "metadata": {
        "id": "6u864q41NbRw"
      },
      "execution_count": null,
      "outputs": []
    },
    {
      "cell_type": "code",
      "source": [
        "import pandas\n",
        "import matplotlib.pyplot as plt #suggested \"fix\" by gemini\n",
        "df = pandas.read_csv('/content/drive/My Drive/sets.csv')\n",
        "\n",
        "print(df)\n",
        "\n",
        "#Step 4\n",
        "shape = df.shape\n",
        "print(\"Shape: \",shape)\n",
        "\n",
        "colnames = df.columns\n",
        "print(colnames)\n",
        "\n",
        "emptyCells = df.isnull().values.any() #source of cmd: https://www.geeksforgeeks.org/python/check-for-nan-in-pandas-dataframe/\n",
        "print(\"Empty Cells: \",emptyCells) #this line was generated as a suggestion from colab\n",
        "\n",
        "#Step 5 source: https://pandas.pydata.org/docs/getting_started/intro_tutorials/03_subset_data.html\n",
        "yrs = df[\"year\"]\n",
        "partsAndYrs = df[['num_parts','year']] #colab gave me a dropdown of column names to choose from\n",
        "oldYrs = df[df['year']<2000]\n",
        "ninties = df[(1989 < df['year']) & (df['year'] < 2000)]\n",
        "\n",
        "print(yrs) # Corrected variable name from 'col'\n",
        "print(partsAndYrs) # Corrected variable name from 'cols'\n",
        "print(oldYrs)\n",
        "print(ninties)\n",
        "\n",
        "#Step 6\n",
        "print(\"Mean year of sets: \", df['year'].mean())\n",
        "print(\"Median year of sets: \", df['year'].median())\n",
        "print(\"Standard deviation of year of sets: \", df['year'].std()) #this line was generated as a suggestion from colab\n",
        "\n",
        "print(\"Mean number of parts per set: \", df['num_parts'].mean())\n",
        "print(\"Median number of parts per set: \", df['num_parts'].median())\n",
        "print(\"Standard deviation of number of parts per set: \", df['num_parts'].std())\n",
        "\n",
        "#source: https://how.dev/answers/how-to-count-unique-items-in-pandas\n",
        "themeCount = df['theme_id'].value_counts()\n",
        "print(themeCount)\n",
        "print(themeCount[0:5]) #5 most frequent values (L) and # of occurances (R), source:https://datacarpentry.github.io/python-socialsci/09-extracting-data.html\n",
        "\n",
        "#Step 7 source:https://pandas.pydata.org/pandas-docs/version/0.13.1/visualization.html, https://www.geeksforgeeks.org/pandas/bar-plot-in-matplotlib/\n",
        "plt.hist(df['year']) #number of sets from each decade\n",
        "plt.show()\n",
        "plt.scatter(df['year'],df['num_parts']) #number of parts in each set compared to the year the set was released.\n",
        "plt.show()\n",
        "\n"
      ],
      "metadata": {
        "collapsed": true,
        "id": "VBuGZs6UtBMH"
      },
      "execution_count": null,
      "outputs": []
    },
    {
      "cell_type": "code",
      "source": [],
      "metadata": {
        "id": "d9NoakNec3Q3"
      },
      "execution_count": null,
      "outputs": []
    }
  ]
}